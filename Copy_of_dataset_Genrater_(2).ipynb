{
  "nbformat": 4,
  "nbformat_minor": 0,
  "metadata": {
    "colab": {
      "provenance": []
    },
    "kernelspec": {
      "name": "python3",
      "display_name": "Python 3"
    },
    "language_info": {
      "name": "python"
    }
  },
  "cells": [
    {
      "cell_type": "markdown",
      "source": [
        "<h1>Dataset</h1>"
      ],
      "metadata": {
        "id": "rAro1uIoDGAM"
      }
    },
    {
      "cell_type": "code",
      "source": [
        "import random\n",
        "data =[\n",
        "\"navbar-navbar-expand-lg-navbar-dark-bg-dark{\\n container-px-5{\\n navbar-brand \\n navbar-toggler{\\n navbar-toggler-icon \\n}\\n collapse-navbar-collapse{\\n navbar-nav-ms-auto-mb-2-mb-lg-0{\\n nav-item{\\n nav-link \\n}\\n nav-item-dropdown{\\n nav-link-dropdown-toggle,dropdown-menu-dropdown-menu-end,dropdown-item \\n}\\n}\\n}\\n}\\n}\",\n",
        "\"py-5{\\n container-px-5-my-5{\\n row-gx-5-justify-content-center{\\n col-lg-6{\\n text-center-mb-5{\\n fw-bolder,lead-fw-normal-text-muted-mb-0 \\n}\\n}\\n row-gx-5{\\n col-12{\\n img-fluid-rounded-3-mb-5 \\n}\\n}\\n}\\n}\\n}\"\n",
        "]\n",
        "\n",
        "header = [\n",
        "\"header{\\n collapse-bg-primary{\\n container{\\n row{\\n col-sm-8-col-md-7-py-4{\\n h-4-text-white,paragraph-lead-light \\n}\\n col-sm-4-offset-md-1-py-4{\\n h-4-text-white \\n list-unstyled-only{\\n li{\\n a-text-white \\n}\\n li{\\n a-text-white \\n}\\n li{\\n a-text-white \\n}\\n}\\n}\\n}\\n}\\n}\\n navbar-dark-bg-primary-shadow{\\n d-flex-justify-content-between{\\n a-navbar-brand-d-flex-align-items-center,navbar-toggler-icon-span \\n}\\n}\\n}\\n\",\n",
        "\"header{\\n collapse-bg-dark{\\n container{\\n row{\\n col-sm-8-col-md-7-py-4{\\n h-4-text-white,paragraph-lead-text-muted \\n}\\n col-sm-4-offset-md-1-py-4{\\n h-4-text-white \\n list-unstyled-only{\\n li{\\n a-text-white \\n}\\n li{\\n a-text-white \\n}\\n li{\\n a-text-white \\n}\\n}\\n}\\n}\\n}\\n}\\n navbar-dark-bg-dark-shadow{\\n d-flex-justify-content-between{\\n a-navbar-brand-d-flex-align-items-center,navbar-toggler-icon-span \\n}\\n}\\n}\\n\",\n",
        "\"header{\\n collapse-bg-success{\\n container{\\n row{\\n col-sm-8-col-md-7-py-4{\\n h-4-text-white,paragraph-lead-light \\n}\\n col-sm-4-offset-md-1-py-4{\\n h-4-text-white \\n list-unstyled-only{\\n li{\\n a-text-white \\n}\\n li{\\n a-text-white \\n}\\n li{\\n a-text-white \\n}\\n}\\n}\\n}\\n}\\n}\\n navbar-dark-bg-success-shadow{\\n d-flex-justify-content-between{\\n a-navbar-brand-d-flex-align-items-center,navbar-toggler-icon-span \\n}\\n}\\n}\\n\",\n",
        "\"header{\\n collapse-bg-danger{\\n container{\\n row{\\n col-sm-8-col-md-7-py-4{\\n h-4-text-white,paragraph-lead-light \\n}\\n col-sm-4-offset-md-1-py-4{\\n h-4-text-white \\n list-unstyled-only{\\n li{\\n a-text-white \\n}\\n li{\\n a-text-white \\n}\\n li{\\n a-text-white \\n}\\n}\\n}\\n}\\n}\\n}\\n navbar-dark-bg-danger-shadow{\\n d-flex-justify-content-between{\\n a-navbar-brand-d-flex-align-items-center,navbar-toggler-icon-span \\n}\\n}\\n}\\n\",\n",
        "\"header{\\n collapse-bg-info{\\n container{\\n row{\\n col-sm-8-col-md-7-py-4{\\n h-4-text-white,paragraph-lead-light \\n}\\n col-sm-4-offset-md-1-py-4{\\n h-4-text-white \\n list-unstyled-only{\\n li{\\n a-text-white \\n}\\n li{\\n a-text-white \\n}\\n li{\\n a-text-white \\n}\\n}\\n}\\n}\\n}\\n}\\n navbar-dark-bg-info-shadow{\\n d-flex-justify-content-between{\\n a-navbar-brand-d-flex-align-items-center,navbar-toggler-icon-span \\n}\\n}\\n}\\n\",\n",
        "\n",
        "\"header{\\n navbar-success{\\n navbar-brand \\n navbar-toggler{\\n navbar-toggler-icon \\n}\\n navbar-collapse{\\n navbar-nav{\\n nav-item-active{\\n nav-link-undisabled \\n}\\n nav-item-unactive{\\n nav-link-undisabled \\n}\\n nav-item-unactive{\\n nav-link-undisabled \\n}\\n}\\n form-inline-light\\n}\\n}\\n}\",\n",
        "\"header{\\n navbar-primary{\\n navbar-brand \\n navbar-toggler{\\n navbar-toggler-icon \\n}\\n navbar-collapse{\\n navbar-nav{\\n nav-item-active{\\n nav-link-undisabled \\n}\\n nav-item-unactive{\\n nav-link-undisabled \\n}\\n nav-item-unactive{\\n nav-link-disabled \\n}\\n}\\n form-inline-light \\n}\\n}\\n}\\n\",\n",
        "\"header{\\n navbar-dark{\\n navbar-brand \\n navbar-toggler{\\n navbar-toggler-icon \\n}\\n navbar-collapse{\\n navbar-nav{\\n nav-item-active{\\n nav-link-undisabled \\n}\\n nav-item-unactive{\\n nav-link-undisabled \\n}\\n nav-item-unactive{\\n nav-link-disabled \\n}\\n}\\n form-inline-light \\n}\\n}\\n}\\n\",\n",
        "\"header{\\n navbar-light{\\n navbar-brand \\n navbar-toggler{\\n navbar-toggler-icon \\n}\\n navbar-collapse{\\n navbar-nav{\\n nav-item-active{\\n nav-link-undisabled \\n}\\n nav-item-unactive{\\n nav-link-undisabled \\n}\\n nav-item-unactive{\\n nav-link-disabled \\n}\\n}\\n form-inline-light \\n}\\n}\\n}\\n\",\n",
        "\"header{\\n navbar-warning{\\n navbar-brand \\n navbar-toggler{\\n navbar-toggler-icon \\n}\\n navbar-collapse{\\n navbar-nav{\\n nav-item-active{\\n nav-link-undisabled \\n}\\n nav-item-unactive{\\n nav-link-undisabled \\n}\\n nav-item-unactive{\\n nav-link-disabled \\n}\\n}\\n form-inline-light \\n}\\n}\\n}\\n\"]\n",
        "       "
      ],
      "metadata": {
        "id": "UDs1A6nukNsy"
      },
      "execution_count": null,
      "outputs": []
    },
    {
      "cell_type": "markdown",
      "source": [
        "<h1>Header Section</h1>"
      ],
      "metadata": {
        "id": "qUfLJXjADDOT"
      }
    },
    {
      "cell_type": "code",
      "source": [
        "# for i in range(0,10):\n",
        "#   out = \"out{}.txt\".format(i)\n",
        "#   res  = random.sample((header), 1)\n",
        "#   with open(out, \"w\") as f:\n",
        "#     for j in res:\n",
        "#       print(j,file=f)\n",
        "for i in range(28,1028):\n",
        "  out ='{}.gui'.format(i)\n",
        "  res  = random.sample((header), 1)\n",
        "  with open(out, \"w\") as f:\n",
        "    for j in res:\n",
        "      print(j,file=f)"
      ],
      "metadata": {
        "id": "kCTh73yCfGRF"
      },
      "execution_count": null,
      "outputs": []
    },
    {
      "cell_type": "markdown",
      "source": [
        "<h1>Main Section</h1>"
      ],
      "metadata": {
        "id": "0blXD0YMCylk"
      }
    },
    {
      "cell_type": "code",
      "source": [
        "# #Dont run this code multiple time before run header first\n",
        "# for i in range(0,10):\n",
        "#   out = \"out{}.txt\".format(i)\n",
        "#   rand0 = random.randint(1,5)\n",
        "#   res0  = random.sample((data), rand0)\n",
        "#   rand1 = random.randint(1,5)\n",
        "#   res1  = random.sample((data), rand1)\n",
        "#   with open(out, 'a+') as f:\n",
        "#     for j in res0:\n",
        "#       # for k in range(random.randint(1,3)):\n",
        "#       print(j,file=f)\n",
        "#   with open(out, \"a+\") as fd:\n",
        "#      for j in res1:\n",
        "#       # for k in range(random.randint(1,3)):\n",
        "#       print(j,file=fd)"
      ],
      "metadata": {
        "id": "jJnl4qEhqHy7"
      },
      "execution_count": null,
      "outputs": []
    },
    {
      "cell_type": "code",
      "source": [
        "#Dont run this code multiple time before run header first\n",
        "import os \n",
        "selected=[]\n",
        "for i in range(28,1028):\n",
        "  rand_0 = random.randint(1,5)\n",
        "  res_0  = random.sample((data), rand_0)\n",
        "  rand_1 = random.randint(1,5)\n",
        "  res_1  = random.sample((data), rand_1)\n",
        "  selected.append(res_0 + res_1)\n",
        "  for (el1 , el2) in zip(res_0 , res_1):\n",
        "    if el1 not in selected[0] and el2 not in selected[0]: \n",
        "      with open(out, 'a+') as f:\n",
        "        for j in res_0:\n",
        "          print(j,file=f)\n",
        "      with open(out, \"a+\") as fd:\n",
        "        for j in res_1:\n",
        "          print(j,file=fd)\n",
        "    elif os.path.exists(out):\n",
        "      os.remove(out)"
      ],
      "metadata": {
        "id": "T1VCTWyR-F_f"
      },
      "execution_count": null,
      "outputs": []
    },
    {
      "cell_type": "code",
      "source": [],
      "metadata": {
        "id": "1fAyqBLh-s6D"
      },
      "execution_count": null,
      "outputs": []
    }
  ]
}