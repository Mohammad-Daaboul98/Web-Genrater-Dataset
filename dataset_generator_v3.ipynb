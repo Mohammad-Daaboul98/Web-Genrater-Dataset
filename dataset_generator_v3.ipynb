{
  "cells": [
    {
      "cell_type": "code",
      "execution_count": 1,
      "metadata": {
        "id": "L3Dc0IEF5LN5"
      },
      "outputs": [],
      "source": [
        "import random\n",
        "import os\n",
        "import sys"
      ]
    },
    {
      "cell_type": "code",
      "execution_count": 2,
      "metadata": {
        "id": "Bthypdtq0dtr"
      },
      "outputs": [],
      "source": [
        "landing = [\n",
        "    \"container{\\nsection-jumbotron-text-center{\\ncontainer{\\nh-1\\nparagraph-lead\\nbtn-warning\\n}\\n}\\n}\",\n",
        "    \"container{\\nsection-py-5{\\nrow-gx-5{\\ncol-lg-6{\\nposition-relative-mb-5{\\nimg-fluid-rounded-3-mb-3\\n}\\n}\\ncol-lg-6{\\nposition-relative-mb-5{\\nimg-fluid-rounded-3-mb-3\\n}\\n}\\ncol-lg-6{\\nposition-relative-mb-5-mb-lg-0{\\nimg-fluid-rounded-3-mb-3\\n}\\n}\\ncol-lg-6{\\nposition-relative{\\nimg-fluid-rounded-3-mb-3\\n}\\n}\\n}\\n}\\n}\",\n",
        "    \"container{\\nsection-py-5{\\nrow-gx-5{\\ncol-12{\\nimg-fluid-rounded-3-mb-5\\n}\\ncol-lg-6{\\nimg-fluid-rounded-3-mb-5\\n}\\ncol-lg-6{\\nimg-fluid-rounded-3-mb-5\\n}\\n}\\nrow-gx-5-justify-content-center{\\ncol-lg-6{\\ntext-center-mb-5{\\ntext-decoration-none\\n}\\n}\\n}\\n}\\n}\",\n",
        "    \"container{\\ncard-deck{\\ncol-md-4{\\nsvg-250px\\nh-3\\n}\\ncol-md-4{\\nsvg-500px\\nh-3\\n}\\ncol-md-4{\\nsvg-250px\\nh-3\\n}\\n}\\n}\",\n",
        "    \"container{\\nalbum-py-5{\\ncontainer{\\nrow{\\ncol-md-4{\\ncard-mb-4-shadow{\\ncard-img-top\\ncard-body{\\nparagraph-card-text\\nd-flex-justify-content-between{\\nbtn-group{\\nbtn-outline-secondary-sm\\nbtn-outline-secondary-sm\\n}\\n}\\n}\\n}\\n}\\n}\\n}\\n}\\n}\",\n",
        "    \"container{\\nsection-jumbotron-text-center{\\ncontainer{\\nh-1\\nparagraph-lead\\nbtn-primary\\nbtn-secondary\\n}\\n}\\n}\",\n",
        "    \"jumbotron-center{\\ncontainer{\\nh-jumbotron\\nparagraph-lead-text-muted\\np-btn{\\nbtn-primary-my-2\\n}\\n}\\n}\",\n",
        "    \"container{\\nalbum-py-5{\\ncontainer{\\nrow{\\ncol-md-4{\\ncard-mb-4-shadow-sm{\\nsvg-bd-placeholder-img-card-img-top\\ncard-body{\\np-card-text\\nd-flex-center{\\nbtn-group{\\nbtn-outline-secondary\\nbtn-outline-secondary\\n}\\nsmall-text-muted\\n}\\n}\\n}\\n}\\ncol-md-4{\\ncard-mb-4-shadow-sm{\\nsvg-bd-placeholder-img-card-img-top\\ncard-body{\\np-card-text\\nd-flex-center{\\nbtn-group{\\nbtn-outline-secondary\\nbtn-outline-secondary\\n}\\nsmall-text-muted\\n}\\n}\\n}\\n}\\ncol-md-4{\\ncard-mb-4-shadow-sm{\\nsvg-bd-placeholder-img-card-img-top\\ncard-body{\\np-card-text\\nd-flex-center{\\nbtn-group{\\nbtn-outline-secondary\\nbtn-outline-secondary\\n}\\nsmall-text-muted\\n}\\n}\\n}\\n}\\ncol-md-4{\\ncard-mb-4-shadow-sm{\\nsvg-bd-placeholder-img-card-img-top\\ncard-body{\\np-card-text\\nd-flex-center{\\nbtn-group{\\nbtn-outline-secondary\\nbtn-outline-secondary\\n}\\nsmall-text-muted\\n}\\n}\\n}\\n}\\ncol-md-4{\\ncard-mb-4-shadow-sm{\\nsvg-bd-placeholder-img-card-img-top\\ncard-body{\\np-card-text\\nd-flex-center{\\nbtn-group{\\nbtn-outline-secondary\\nbtn-outline-secondary\\n}\\nsmall-text-muted\\n}\\n}\\n}\\n}\\ncol-md-4{\\ncard-mb-4-shadow-sm{\\nsvg-bd-placeholder-img-card-img-top\\ncard-body{\\np-card-text\\nd-flex-center{\\nbtn-group{\\nbtn-outline-secondary\\nbtn-outline-secondary\\n}\\nsmall-text-muted\\n}\\n}\\n}\\n}\\n}\\n}\\n}\\n}\",\n",
        "    \"container{\\njumbotron{\\ncontainer{\\nh-1\\nparagraph\\nbtn-primary\\n}\\n}\\n}\",\n",
        "    \"container{\\ntext-center{\\nrow{\\ncol-md-4{\\nsvg-250px\\nh-3\\n}\\ncol-md-4{\\nsvg-250px\\nh-3\\n}\\ncol-md-4{\\nsvg-250px\\nh-3\\n}\\n}\\nbr\\nrow{\\ncol-md-4{\\nsvg-250px\\nh-3\\n}\\ncol-md-4{\\nsvg-250px\\nh-3\\n}\\ncol-md-4{\\nsvg-250px\\nh-3\\n}\\n}\\nbr\\n}\\n}\",\n",
        "    \"container{\\nalbum-py-5{\\ncontainer{\\nrow{\\ncol-md-4{\\ncard-mb-4-shadow{\\ncard-img-top\\ncard-body{\\nparagraph-card-text\\nd-flex-justify-content-between{\\nbtn-group{\\nbtn-outline-secondary-sm\\nbtn-outline-secondary-sm\\n}\\n}\\n}\\n}\\n}\\ncol-md-4{\\ncard-mb-4-shadow{\\ncard-img-top\\ncard-body{\\nparagraph-card-text\\nd-flex-justify-content-between{\\nbtn-group{\\nbtn-outline-secondary-sm\\nbtn-outline-secondary-sm\\n}\\n}\\n}\\n}\\n}\\n}\\n}\\n}\\n}\",\n",
        "    \"container{\\nalbum-py-5{\\ncontainer{\\nrow{\\ncol-md-4{\\ncard-mb-4-shadow{\\ncard-img-top\\ncard-body{\\nparagraph-card-text\\nd-flex-justify-content-between{\\nbtn-group{\\nbtn-outline-secondary-sm\\nbtn-outline-secondary-sm\\n}\\n}\\n}\\n}\\n}\\ncol-md-4{\\ncard-mb-4-shadow{\\ncard-img-top\\ncard-body{\\nparagraph-card-text\\nd-flex-justify-content-between{\\nbtn-group{\\nbtn-outline-secondary-sm\\nbtn-outline-secondary-sm\\n}\\n}\\n}\\n}\\n}\\ncol-md-4{\\ncard-mb-4-shadow{\\ncard-img-top\\ncard-body{\\nparagraph-card-text\\nd-flex-justify-content-between{\\nbtn-group{\\nbtn-outline-secondary-sm\\nbtn-outline-secondary-sm\\n}\\n}\\n}\\n}\\n}\\n}\\n}\\n}\\n}\",\n",
        "    \"container{\\nalbum-py-5{\\ncontainer{\\nrow{\\ncol-md-4{\\ncard-mb-4-shadow{\\ncard-img-top\\ncard-body{\\nparagraph-card-text\\nd-flex-justify-content-between{\\nbtn-group{\\nbtn-outline-secondary-sm\\nbtn-outline-secondary-sm\\n}\\n}\\n}\\n}\\n}\\ncol-md-4{\\ncard-mb-4-shadow{\\ncard-img-top\\ncard-body{\\nparagraph-card-text\\nd-flex-justify-content-between{\\nbtn-group{\\nbtn-outline-secondary-sm\\nbtn-outline-secondary-sm\\n}\\n}\\n}\\n}\\n}\\ncol-md-4{\\ncard-mb-4-shadow{\\ncard-img-top\\ncard-body{\\nparagraph-card-text\\nd-flex-justify-content-between{\\nbtn-group{\\nbtn-outline-secondary-sm\\nbtn-outline-secondary-sm\\n}\\n}\\n}\\n}\\n}\\ncol-md-4{\\ncard-mb-4-shadow{\\ncard-img-top\\ncard-body{\\nparagraph-card-text\\nd-flex-justify-content-between{\\nbtn-group{\\nbtn-outline-secondary-sm\\nbtn-outline-secondary-sm\\n}\\n}\\n}\\n}\\n}\\ncol-md-4{\\ncard-mb-4-shadow{\\ncard-img-top\\ncard-body{\\nparagraph-card-text\\nd-flex-justify-content-between{\\nbtn-group{\\nbtn-outline-secondary-sm\\nbtn-outline-secondary-sm\\n}\\n}\\n}\\n}\\n}\\ncol-md-4{\\ncard-mb-4-shadow{\\ncard-img-top\\ncard-body{\\nparagraph-card-text\\nd-flex-justify-content-between{\\nbtn-group{\\nbtn-outline-secondary-sm\\nbtn-outline-secondary-sm\\n}\\n}\\n}\\n}\\n}\\n}\\n}\\n}\\n}\",\n",
        "    \"container{\\ncard-deck{\\ncol-md-4{\\nsvg-500px\\nh-3\\n}\\ncol-md-4{\\nsvg-500px\\nh-3\\n}\\n}\\n}\",\n",
        "    \"container{\\ncard-deck{\\ncol-md-4{\\nsvg-500px\\nh-3\\n}\\ncol-md-4{\\nsvg-500px\\nh-3\\n}\\ncol-md-4{\\nsvg-500px\\nh-3\\n}\\n}\\n}\",\n",
        "    \"container{\\nalbum-py-5{\\ncontainer{\\nrow{\\ncol-md-4{\\ncard-mb-4-shadow-sm{\\nsvg-bd-placeholder-img-card-img-top\\ncard-body{\\np-card-text\\nd-flex-center{\\nbtn-group{\\nbtn-primary\\nbtn-success\\n}\\nsmall-text-muted\\n}\\n}\\n}\\n}\\ncol-md-4{\\ncard-mb-4-shadow-sm{\\nsvg-bd-placeholder-img-card-img-top\\ncard-body{\\np-card-text\\nd-flex-center{\\nbtn-group{\\nbtn-primary\\nbtn-success\\n}\\nsmall-text-muted\\n}\\n}\\n}\\n}\\ncol-md-4{\\ncard-mb-4-shadow-sm{\\nsvg-bd-placeholder-img-card-img-top\\ncard-body{\\np-card-text\\nd-flex-center{\\nbtn-group{\\nbtn-primary\\nbtn-success\\n}\\nsmall-text-muted\\n}\\n}\\n}\\n}\\n}\\n}\\n}\\n}\",\n",
        "    \"container{\\nrow{\\ncol-md-4{\\ntext-center{\\nh-2\\nparagraph\\nbtn-danger\\n}\\n}\\ncol-md-4{\\ntext-center{\\nh-2\\nparagraph\\nbtn-danger\\n}\\n}\\ncol-md-4{\\ntext-center{\\nh-2\\nparagraph\\nbtn-danger\\n}\\n}\\n}\\n}\",\n",
        "    \"carousel-slide\"\n",
        "]\n",
        "\n",
        "about = [\n",
        "    \"container{\\ncard-deck{\\ncol-md-4{\\nsvg-250px\\nh-3\\n}\\ncard{\\ncard-header{\\nh-4\\n}\\ncard-body{\\nsvg-140px\\nparagraph-lead\\nbtn-primary\\n}\\n}\\ncol-md-4{\\nsvg-250px\\nh-3\\n}\\n}\\n}\",\n",
        "    \"container{\\ncontainer-marketing{\\nrow{\\ncol-md-7{\\nh-featurette{\\ntext-muted\\n}\\nparagraph-lead\\n}\\ncol-md-5{\\nsvg-500px\\n}\\n}\\n}\\n}\",\n",
        "    \"container{\\ntext-center{\\nh-1\\nparagraph-lead\\n}\\n}\",\n",
        "    \"container{\\ncard-deck{\\ncol-md-4{\\nsvg-250px\\nh-3\\n}\\ncard{\\ncard-header{\\nh-4\\n}\\ncard-body{\\nsvg-140px\\nparagraph-lead\\nbtn-danger\\n}\\n}\\n}\\n}\",\n",
        "    \"container{\\ncard-deck{\\ncard{\\ncard-header{\\nh-4\\n}\\ncard-body{\\nsvg-140px\\nparagraph-lead\\nbtn-danger\\n}\\n}\\ncard{\\ncard-header{\\nh-4\\n}\\ncard-body{\\nsvg-140px\\nparagraph-lead\\nbtn-danger\\n}\\n}\\ncard{\\ncard-header{\\nh-4\\n}\\ncard-body{\\nsvg-140px\\nparagraph-lead\\nbtn-danger\\n}\\n}\\n}\\n}\",\n",
        "    \"container-marketing{\\ncontainer{\\nrow{\\ncol-lg-4{\\nsvg-140px\\nh-2\\nparagraph\\np-btn{\\nbtn-success\\n}\\n}\\ncol-lg-4{\\nsvg-140px\\nh-2\\nparagraph\\np-btn{\\nbtn-success\\n}\\n}\\ncol-lg-4{\\nsvg-140px\\nh-2\\nparagraph\\np-btn{\\nbtn-success\\n}\\n}\\n}\\n}\\n}\",\n",
        "    \"container-marketing{\\ncontainer{\\nrow{\\ncol-lg-4{\\nsvg-140px\\nh-2\\nparagraph\\np-btn{\\nbtn-success\\n}\\n}\\n}\\n}\\n}\",\n",
        "    \"container{\\ncard-deck{\\ncard{\\ncard-header{\\nh-4\\n}\\ncard-body{\\nsvg-140px\\nparagraph-lead\\nbtn-danger\\n}\\n}\\n}\\n}\",\n",
        "    \"container{\\ncard-deck{\\ncol-md-4{\\nsvg-250px\\nh-3\\n}\\ncard{\\ncard-header{\\nh-4\\n}\\ncard-body{\\nsvg-140px\\nparagraph-lead\\nbtn-primary\\n}\\n}\\ncol-md-4{\\nsvg-250px\\nh-3\\n}\\n}\\n}\",\n",
        "    \"container{\\ncard-deck{\\ncard{\\ncard-header{\\nh-4\\n}\\ncard-body{\\nsvg-140px\\nparagraph-lead\\nbtn-success\\n}\\n}\\ncol-md-4{\\nsvg-250px\\nh-3\\n}\\ncard{\\ncard-header{\\nh-4\\n}\\ncard-body{\\nsvg-140px\\nparagraph-lead\\nbtn-success\\n}\\n}\\n}\\n}\",\n",
        "    \"section-py-5{\\ncontainer-px-5-my-5{\\nrow-gx-5-align-items-center{\\ncol-lg-6-order-first-order-lg-last{\\nimg-fluid-rounded-mb-5-mb-lg-0\\n}\\ncol-lg-6{\\nh2-fw-bolder\\nparagraph\\n}\\n}\\n}\\n}\",\n",
        "    \"section-py-5-bg-light{\\ncontainer-px-5-my-5{\\nrow-gx-5-align-items-center{\\ncol-lg-6{\\nimg-fluid-rounded-mb-5-mb-lg-0\\n}\\ncol-lg-6{\\nh2-fw-bolder\\nparagraph\\n}\\n}\\n}\\n}\"\n",
        "]\n",
        "\n",
        "contact_form = [\n",
        "    \"container{\\naside\\n}\",\n",
        "    \"d-flex-flex-column{\\nflex-shrink-0{\\nsection-py-5{\\ncontainer-px-5{\\nbg-dark-rounded-3-py-5-px-4-px-md-5-mb-5{\\ntext-center-mb-5{\\nfw-bolder{\\nh1-white\\n}\\nrow-gx-5-justify-content-center{\\ncol-lg-8-col-xl-6{\\nform{\\nform-row{\\nlabel-white\\ninput-text-form-control\\n}\\nbr\\nform-row{\\nlabel-white\\ninput-email-form-control\\n}\\nbr\\nform-row{\\nlabel-white\\ninput-phone-form-control\\n}\\nbr\\nform-row{\\nlabel-white\\ntextarea-form-control-6r\\n}\\n}\\n}\\n}\\n}\\n}\\n}\\n}\\n}\\n}\",\n",
        "    \"container{\\nrow{\\ncol{\\nnav-breadcrumb{\\nol-breadcrumb{\\nli-breadcrumb-item{\\na-link\\n}\\nli-breadcrumb-item-active{\\nany\\n}\\n}\\n}\\n}\\n}\\nrow{\\ncol{\\ncard{\\ncard-header-bg-primary-text-white{\\nfa-envelope\\nany\\n}\\ncard-body{\\nform{\\nform-group{\\nlabel\\ninput-text-form-control\\n}\\nform-group{\\nlabel\\ninput-email-form-control\\nsmall-form-text\\n}\\nform-group{\\nlabel\\ntextarea-form-control-6r\\n}\\nmx-auto{\\nbtn-primary-text-right\\n}\\n}\\n}\\n}\\n}\\ncol-12-col-sm-4{\\ncard-bg-light-mb-3{\\ncard-header-bg-success-text-white-text-uppercase{\\nfa-home\\nany\\n}\\ncard-body{\\nparagraph\\nparagraph\\nparagraph\\nparagraph\\nparagraph\\n}\\n}\\n}\\n}\\n}\",\n",
        "    \"container{\\nh2-text-center\\nrow-justify-content-center{\\ncol-12-col-md-8-col-lg-6-pb-5{\\nform{\\ncard-border-primary-rounded-0{\\ncard-header-p-0{\\nbg-info-text-white-text-center-py-2{\\nh3{\\nfa-envelope\\nany\\n}\\np-m-0\\n}\\n}\\ncard-body-p-3{\\nform-group{\\ninput-group-mb-2{\\ninput-group-prepend{\\ninput-group-text{\\nfa-user-text-info\\n}\\n}\\ninput-text-form-control\\n}\\n}\\nform-group{\\ninput-group-mb-2{\\ninput-group-prepend{\\ninput-group-text{\\nfa-envelope-text-info\\n}\\n}\\ninput-email-form-control\\n}\\n}\\nform-group{\\ninput-group-mb-2{\\ninput-group-prepend{\\ninput-group-text{\\nfa-comment-text-info\\n}\\n}\\ntextarea-form-control\\n}\\n}\\ntext-center{\\ninput-btn-info-btn-block-rounded-0-py-2\\n}\\n}\\n}\\n}\\n}\\n}\\n}\",\n",
        "    \"container{\\nbg-dark-rounded-3-py-5-px-4-px-md-5-mb-5{\\nform{\\nform-group{\\nlabel-white\\ninput-file-form-control-white\\n}\\n}\\n}\\n}\",\n",
        "    \"container{\\nbg-dark-rounded-3-py-5-px-4-px-md-5-mb-5{\\nform{\\nform-row{\\nform-group-col-md-6{\\nlabel-white\\ninput-email-form-control\\n}\\nform-group-col-md-6{\\nlabel-white\\ninput-password-form-control\\n}\\n}\\nform-group{\\nlabel-white\\ninput-text-form-control\\n}\\nform-group{\\nlabel-white\\ninput-text-form-control\\n}\\nform-row{\\nform-group-col-md-6{\\nlabel-white\\ninput-text-form-control\\n}\\nform-group-col-md-4{\\nlabel-white\\nselect5-form-control\\n}\\nform-group-col-md-2{\\nlabel-white\\ninput-text-form-control\\n}\\n}\\nform-group{\\nform-check{\\ninput-checkbox-form-check\\nform-check-label-white\\n}\\n}\\nbtn-success\\n}\\n}\\n}\",\n",
        "    \"container{\\nbg-dark-rounded-3-py-5-px-4-px-md-5-mb-5{\\nform{\\nform-group-row{\\ncol-sm-2-col-form-label-email-white\\ncol-sm-10{\\ninput-email-form-control\\n}\\n}\\nform-group-row{\\ncol-sm-2-col-form-label-password-white\\ncol-sm-10{\\ninput-password-form-control\\n}\\n}\\nfieldset-form-group{\\nrow{\\nlegend-radio-white\\ncol-sm-10{\\nform-check{\\ninput-radio-form-check-checked\\nform-check-label-white\\n}\\nform-check{\\ninput-radio-form-check \\nform-check-label-white\\n}\\nform-check-disabled{\\ninput-radio-form-check-disabled\\nform-check-label-white\\n}\\n}\\n}\\n}\\nform-group-row{\\ncol-sm-2-white{\\nany\\n}\\ncol-sm-10{\\nform-check{\\ninput-checkbox-form-check\\nform-check-label-white\\n}\\n}\\n}\\nform-group-row{\\ncol-sm-10{\\nbtn-primary\\n}\\n}\\n}\\n}\\n}\",\n",
        "    \"container{\\nbg-dark-rounded-3-py-5-px-4-px-md-5-mb-5{\\nform{\\nform-group{\\nlabel-white\\ninput-email-form-control\\n}\\nform-group{\\nlabel-white\\nselect5-form-control\\n}\\nform-group{\\nlabel-white\\nselect5-form-control\\n}\\nform-group{\\nlabel-white\\ntextarea-form-control-6r\\n}\\n}\\n}\\n}\",\n",
        "    \"container{\\nbg-dark-rounded-3-py-5-px-4-px-md-5-mb-5{\\nform{\\nform-row-align-items-center{\\ncol-auto{\\nlabel-sr-only\\ninput-text-form-control-mb-2\\n}\\ncol-auto{\\nlabel-sr-only\\ninput-group-mb-2{\\ninput-group-prepend{\\ninput-group-text{\\nany\\n}\\n}\\ninput-text-form-control\\n}\\n}\\ncol-auto{\\nform-check-mb-2{\\ninput-checkbox-form-check\\nform-check-label-white\\n}\\n}\\ncol-auto{\\nbtn-primary-mb-2\\n}\\n}\\n}\\n}\\n}\",\n",
        "    \"container{\\nbg-dark-rounded-3-py-5-px-4-px-md-5-mb-5{\\nform{\\nform-group{\\nlabel-white\\ninput-email-form-control\\n}\\nform-group{\\nlabel-white\\ninput-password-form-control\\n}\\nform-group{\\nform-check{\\ninput-checkbox-form-check\\nform-check-label-white\\n}\\n}\\nbtn-primary\\n}\\n}\\n}\",\n",
        "    \"container{\\nbg-dark-rounded-3-py-5-px-4-px-md-5-mb-5{\\nform-inline{\\nlabel-my-1-mr-2-white\\ncustom-select-my-1-mr-sm-2\\ncustom-control-custom-checkbox-my-1-mr-sm-2{\\ninput-checkbox-custom-control\\nlabel-custom-control-white\\n}\\nbtn-primary-my-1\\n}\\n}\\n}\",\n",
        "    \"container{\\nbg-dark-rounded-3-py-5-px-4-px-md-5-mb-5{\\nform{\\nform-row{\\ncol-md-4-mb-3{\\nlabel-white\\ninput-text-form-control\\n}\\ncol-md-4-mb-3{\\nlabel-white\\ninput-text-form-control\\n}\\ncol-md-4-mb-3{\\nlabel-white\\ninput-group{\\ninput-group-prepend{\\nspan-input-group-text\\n}\\ninput-text-form-control\\n}\\n}\\n}\\nform-row{\\ncol-md-6-mb-3{\\nlabel-white\\ninput-text-form-control\\n}\\ncol-md-3-mb-3{\\nlabel-white\\ninput-text-form-control\\n}\\ncol-md-3-mb-3{\\nlabel-white\\ninput-text-form-control\\n}\\n}\\nform-group{\\nform-check{\\ninput-checkbox-form-check\\nform-check-label-white\\n}\\n}\\nbtn-primary\\n}\\n}\\n}\",\n",
        "    \"container{\\nbg-dark-rounded-3-py-5-px-4-px-md-5-mb-5{\\ncustom-file{\\ncustom-file-input\\ncustom-file-label\\n}\\n}\\n}\",\n",
        "    \"container{\\nbg-dark-rounded-3-py-5-px-4-px-md-5-mb-5{\\nform-inline{\\nform-group-mb-2{\\nlabel-email-sr-only\\ninput-email-form-control\\n}\\nform-group-mx-sm-3-mb-2{\\nlabel-password-sr-only\\ninput-password-form-control\\n}\\nbtn-primary-mb-2\\n}\\n}\\n}\",\n",
        "    \"container{\\nbg-dark-rounded-3-py-5-px-4-px-md-5-mb-5{\\nform-signin{\\ntext-center-mb-4{\\nimg-mb-4\\nh3-mb-3-font-weight-normal-white\\nparagraph-white\\n}\\nform-group{\\nlabel-white\\ninput-email-form-control\\n}\\nform-group{\\nlabel-white\\ninput-password-form-control\\n}\\ncheckbox-mb-3{\\ninput-checkbox\\nform-check-label-white\\n}\\nbtn-btn-lg-btn-primary-btn-block\\n}\\n}\\n}\",\n",
        "    \"container{\\nbg-dark-rounded-3-py-5-px-4-px-md-5-mb-5{\\ntext-center{\\nform-signin{\\nimg-mb-4\\nh3-mb-3-font-weight-normal-white\\nlabel-email-sr-only\\ninput-email-form-control\\nlabel-password-sr-only\\ninput-password-form-control\\ncheckbox-mb-3{\\ninput-checkbox\\nform-check-label-white\\n}\\nbtn-btn-lg-btn-primary-btn-block\\n}\\n}\\n}\\n}\"\n",
        "]\n",
        "\n",
        "pricing = [\n",
        "    \"container{\\ncard-deck{\\ncard{\\ncard-header{\\nh-4\\n}\\ncard-body{\\ncard-title\\nlist-unstyled{\\nli{\\nany\\n}\\nli{\\nany\\n}\\nli{\\nany\\n}\\nli{\\nany\\n}\\n}\\nbtn-danger\\n}\\n}\\ncard{\\ncard-header{\\nh-4\\n}\\ncard-body{\\ncard-title\\nlist-unstyled{\\nli{\\nany\\n}\\nli{\\nany\\n}\\nli{\\nany\\n}\\nli{\\nany\\n}\\n}\\nbtn-danger\\n}\\n}\\ncard{\\ncard-header{\\nh-4\\n}\\ncard-body{\\ncard-title\\nlist-unstyled{\\nli{\\nany\\n}\\nli{\\nany\\n}\\nli{\\nany\\n}\\nli{\\nany\\n}\\n}\\nbtn-danger\\n}\\n}\\n}\\n}\",\n",
        "    \"container{\\ncard-deck{\\ncard{\\ncard-header{\\nh-4\\n}\\ncard-body{\\ncard-title\\nlist-unstyled{\\nli{\\nany\\n}\\nli{\\nany\\n}\\nli{\\nany\\n}\\nli{\\nany\\n}\\n}\\nbtn-danger\\n}\\n}\\ncard{\\ncard-header{\\nh-4\\n}\\ncard-body{\\ncard-title\\nlist-unstyled{\\nli{\\nany\\n}\\nli{\\nany\\n}\\nli{\\nany\\n}\\nli{\\nany\\n}\\n}\\nbtn-danger\\n}\\n}\\n}\\n}\",\n",
        "    \"container{\\ncard-deck{\\ncard{\\ncard-header{\\nh-4\\n}\\ncard-body{\\ncard-title\\nlist-unstyled{\\nli{\\nany\\n}\\nli{\\nany\\n}\\nli{\\nany\\n}\\nli{\\nany\\n}\\n}\\nbtn-danger\\n}\\n}\\n}\\n}\",\n",
        "    \"container{\\ntext-center{\\nh-1\\nparagraph-lead\\n}\\n}\\ncontainer{\\ncard-deck{\\ncard{\\ncard-header{\\nh-4\\n}\\ncard-body{\\ncard-title\\nlist-unstyled{\\nli{\\nany\\n}\\nli{\\nany\\n}\\nli{\\nany\\n}\\nli{\\nany\\n}\\n}\\nbtn-primary\\n}\\n}\\ncard{\\ncard-header{\\nh-4\\n}\\ncard-body{\\ncard-title\\nlist-unstyled{\\nli{\\nany\\n}\\nli{\\nany\\n}\\nli{\\nany\\n}\\nli{\\nany\\n}\\n}\\nbtn-primary\\n}\\n}\\ncard{\\ncard-header{\\nh-4\\n}\\ncard-body{\\ncard-title\\nlist-unstyled{\\nli{\\nany\\n}\\nli{\\nany\\n}\\nli{\\nany\\n}\\nli{\\nany\\n}\\n}\\nbtn-primary\\n}\\n}\\n}\\n}\",\n",
        "    \"section-bg-light-py-5{\\ncontainer-px-5-my-5{\\ntext-center-mb-5{\\nh1-fw-bolder\\nparagraph\\n}\\nrow-gx-5-justify-content-center{\\ncol-lg-6-col-xl-4{\\ncard-mb-5-mb-xl-0{\\ncard-body-p-5{\\nsmall-text-uppercase-fw-bold-text-muted{\\nany\\n}\\nmb-3{\\ndisplay-4-fw-bold\\ntext-muted\\n}\\nlist-unstyled-mb-4{\\nli-mb-2{\\nbi-check\\nstrong\\n}\\nli-mb-2{\\nbi-check\\nany\\n}\\nli-mb-2{\\nbi-check\\nany\\n}\\nli-mb-2{\\nbi-check\\nany\\n}\\nli-mb-2-text-muted{\\nbi-x\\nany\\n}\\nli-mb-2-text-muted{\\nbi-x\\nany\\n}\\nli-mb-2-text-muted{\\nbi-x\\nany\\n}\\nli-text-muted{\\nbi-x\\nany\\n}\\n}\\nd-grid{\\nbtn-outline-primary\\n}\\n}\\n}\\n}\\ncol-lg-6-col-xl-4{\\ncard-mb-5-mb-xl-0{\\ncard-body-p-5{\\nsmall-text-uppercase-fw-bold{\\nbi-star-fill\\n}\\nmb-3{\\ndisplay-4-fw-bold\\ntext-muted\\n}\\nlist-unstyled-mb-4{\\nli-mb-2{\\nbi-check\\nstrong\\n}\\nli-mb-2{\\nbi-check\\nany\\n}\\nli-mb-2{\\nbi-check\\nany\\n}\\nli-mb-2{\\nbi-check\\nany\\n}\\nli-mb-2{\\nbi-check\\nany\\n}\\nli-mb-2{\\nbi-check\\nany\\n}\\nli-mb-2{\\nbi-check\\nany\\n}\\nli-text-muted{\\nbi-x\\nany\\n}\\n}\\nd-grid{\\nbtn-primary\\n}\\n}\\n}\\n}\\ncol-lg-6-col-xl-4{\\ncard{\\ncard-body-p-5{\\nsmall-text-uppercase-fw-bold-text-muted{\\nany\\n}\\nmb-3{\\ndisplay-4-fw-bold\\ntext-muted\\n}\\nlist-unstyled-mb-4{\\nli-mb-2{\\nbi-check\\nstrong\\n}\\nli-mb-2{\\nbi-check\\nany\\n}\\nli-mb-2{\\nbi-check\\nany\\n}\\nli-mb-2{\\nbi-check\\nany\\n}\\nli-mb-2{\\nbi-check\\nany\\n}\\nli-mb-2{\\nbi-check\\nany\\n}\\nli-mb-2{\\nbi-check\\nstrong\\n}\\nli-text-muted{\\nbi-check\\nany\\n}\\n}\\nd-grid{\\nbtn-outline-primary\\n}\\n}\\n}\\n}\\n}\\n}\\n}\",\n",
        "    \"container{\\nrow{\\ncol-md-4-col-sm-6{\\npricingTable{\\nsvg-0-0-360-220{\\ng{\\npath-ae003d\\n}\\ntext-78\\ntext-29\\ntext-15\\n}\\npricing-content{\\nh3-title\\nul-pricing-content{\\nli{\\nb\\nany\\n}\\nli{\\nb\\nany\\n}\\nli{\\nb\\nany\\n}\\nli{\\nb\\nany\\n}\\nli{\\nb\\nany\\n}\\n}\\npricingTable-signup\\n}\\n}\\n}\\ncol-md-4-col-sm-6{\\npricingTable-blue{\\nsvg-0-0-360-220{\\ng{\\npath-005c99\\n}\\ntext-78\\ntext-29\\ntext-15\\n}\\npricing-content{\\nh3-title\\nul-pricing-content{\\nli{\\nb\\nany\\n}\\nli{\\nb\\nany\\n}\\nli{\\nb\\nany\\n}\\nli{\\nb\\nany\\n}\\nli{\\nb\\nany\\n}\\n}\\npricingTable-signup\\n}\\n}\\n}\\ncol-md-4-col-sm-6{\\npricingTable-red{\\nsvg-0-0-360-220{{\\ng{\\npath-db2c29\\n}\\ntext-78\\ntext-29\\ntext-15\\n}\\npricing-content{\\nh3-title\\nul-pricing-content{\\nli{\\nb\\nany\\n}\\nli{\\nb\\nany\\n}\\nli{\\nb\\nany\\n}\\nli{\\nb\\nany\\n}\\nli{\\nb\\nany\\n}\\n}\\npricingTable-signup\\n}\\n}\\n}\\n}\\n}\",\n",
        "    \"margin-top-3p{\\nw-50-px-3-py-3-pt-md-4-pb-md-5-mx-auto-text-center{\\nh1-display-4-font-weight-bold\\nparagraph-lead\\n}\\ncontainer{\\nrow-justify-content-center{\\ncol-11{\\nrow{\\ncol-lg-5-col-md-8-col-sm-8-d-block-m-auto{\\ntext-primary{\\nfa-check-circle\\n}\\npt-2-pb-1{\\nh-4\\n}\\ndiv{\\nh1-pb-3-text-primary-font-weight-bold\\npb-2\\nrow-pb-5{\\ncol-md-9-col-lg-7{\\nbtn-lg-btn-block-btn-primary\\n}\\n}\\n}\\n}\\ncol-lg-5-col-md-8-col-sm-8-d-block-m-auto{\\ncolor-primary-text-text-primary{\\nfa-check-circle\\n}\\npt-2-pb-1{\\nh-4\\n}\\ndiv{\\nh1-pb-3-color-primary-text-text-primary-font-weight-bold\\npb-2\\nrow-pb-5{\\ncol-md-9-col-lg-7{\\nbtn-lg-btn-block-btn-primary\\n}\\n}\\n}\\n}\\n}\\n}\\n}\\n}\\n}\",\n",
        "    \"margin-5p{\\ncontainer-fluid{\\npricing-plan-card-group-d-flex{\\ncard-set-price-p-1-d-none-d-lg-none-d-lg-block{\\ncard-header-text-center-pb-4-item{\\nh5-pt-3-text-white-card-title\\nspan-h1-text-white\\np-small-text-white\\n}\\ncard-body-d-flex-flex-column{\\nlist-unstyled-text-right{\\nli{\\nany\\n}\\nli{\\nany\\n}\\nli{\\nany\\n}\\nli{\\nany\\n}\\nli{\\nany\\n}\\nli{\\nany\\n}\\nli{\\nany\\n}\\nli{\\nany\\n}\\nli{\\nany\\n}\\nli{\\nany\\n}\\nli{\\nany\\n}\\nli{\\nany\\n}\\nli{\\nany\\n}\\nli{\\nany\\n}\\nli{\\nany\\n}\\nli{\\nany\\n}\\nli{\\nany\\n}\\nli{\\nany\\n}\\nli{\\nany\\n}\\nli{\\nany\\n}\\n}\\n}\\n}\\nw-100-d-md-none-mt-4{\\n}\\ncard-p-1-starter{\\ncard-header-text-center-pb-4-item{\\nh5-pt-3-text-white-card-title\\nspan-h1-text-white\\np-small-text-white\\n}\\ncard-body-d-flex-flex-column{\\nlist-unstyled-text-center{\\nli{\\nspan-d-lg-none\\nfa-check\\n}\\nli{\\nspan-d-lg-none\\nfa-check\\n}\\nli{\\nany\\n}\\nli{\\nspan-d-lg-none\\nfa-check\\n}\\nli{\\nspan-d-lg-none\\nfa-check\\n}\\nli{\\nspan-d-lg-none\\nany\\n}\\nli{\\nspan-d-lg-none\\nfa-times\\n}\\nli{\\nspan-d-lg-none\\nfa-check\\n}\\nli{\\nspan-d-lg-none\\nfa-check\\n}\\nli{\\nspan-d-lg-none\\nfa-check\\n}\\nli{\\nspan-d-lg-none\\nfa-check\\n}\\nli{\\nspan-d-lg-none\\nfa-check\\n}\\nli{\\nspan-d-lg-none\\nfa-times\\n}\\nli{\\nspan-d-lg-none\\nfa-check\\n}\\nli{\\nspan-d-lg-none\\nfa-check\\n}\\nli{\\nspan-d-lg-none\\nfa-check\\n}\\nli{\\nspan-d-lg-none\\nfa-check\\n}\\nli{\\nspan-d-lg-none\\nfa-check\\n}\\nli{\\nspan-d-lg-none\\nfa-check\\n}\\nli{\\nspan-d-lg-none\\nfa-check\\n}\\n}\\nbtn-lg-btn-block-btn-success-mt-auto\\n}\\n}\\nw-100-d-md-none-mt-4{\\n}\\ncard-advanced-p-1{\\ncard-header-text-center-pb-4-item{\\nh5-pt-3-text-white-card-title\\nspan-h1-text-white\\np-small-text-white\\n}\\ncard-body-d-flex-flex-column{\\nlist-unstyled-text-center{\\nli{\\nspan-d-lg-none\\nfa-check\\n}\\nli{\\nspan-d-lg-none\\nfa-check\\n}\\nli{\\nany\\n}\\nli{\\nspan-d-lg-none\\nfa-check\\n}\\nli{\\nspan-d-lg-none\\nfa-check\\n}\\nli{\\nspan-d-lg-none\\nany\\n}\\nli{\\nspan-d-lg-none\\nfa-check\\n}\\nli{\\nspan-d-lg-none\\nfa-check\\n}\\nli{\\nspan-d-lg-none\\nfa-check\\n}\\nli{\\nspan-d-lg-none\\nfa-check\\n}\\nli{\\nspan-d-lg-none\\nfa-check\\n}\\nli{\\nspan-d-lg-none\\nfa-check\\n}\\nli{\\nspan-d-lg-none\\nfa-check\\n}\\nli{\\nspan-d-lg-none\\nfa-check\\n}\\nli{\\nspan-d-lg-none\\nfa-check\\n}\\nli{\\nspan-d-lg-none\\nfa-check\\n}\\nli{\\nspan-d-lg-none\\nfa-check\\n}\\nli{\\nspan-d-lg-none\\nfa-check\\n}\\nli{\\nspan-d-lg-none\\nfa-check\\n}\\nli{\\nspan-d-lg-none\\nfa-check\\n}\\n}\\nbtn-lg-btn-block-btn-success-mt-auto\\n}\\n}\\nw-100-d-md-none-mt-4{\\n}\\ncard-business-p-1{\\ncard-header-text-center-pb-4-item{\\nh5-pt-3-text-white-card-title\\nspan-h1-text-white\\np-small-text-white\\n}\\ncard-body-d-flex-flex-column{\\nlist-unstyled-text-center{\\nli{\\nspan-d-lg-none\\nfa-check\\n}\\nli{\\nspan-d-lg-none\\nfa-check\\n}\\nli{\\nany\\n}\\nli{\\nspan-d-lg-none\\nfa-check\\n}\\nli{\\nspan-d-lg-none\\nfa-check\\n}\\nli{\\nspan-d-lg-none\\n}\\nli{\\nspan-d-lg-none\\nfa-check\\n}\\nli{\\nspan-d-lg-none\\nfa-check\\n}\\nli{\\nspan-d-lg-none\\nfa-check\\n}\\nli{\\nspan-d-lg-none\\nfa-check\\n}\\nli{\\nspan-d-lg-none\\nfa-check\\n}\\nli{\\nspan-d-lg-none\\nfa-check\\n}\\nli{\\nspan-d-lg-none\\nfa-check\\n}\\nli{\\nspan-d-lg-none\\nfa-check\\n}\\nli{\\nspan-d-lg-none\\nfa-check\\n}\\nli{\\nspan-d-lg-none\\nfa-check\\n}\\nli{\\nspan-d-lg-none\\nfa-check\\n}\\nli{\\nspan-d-lg-none\\nfa-check\\n}\\nli{\\nspan-d-lg-none\\nfa-check\\n}\\nli{\\nspan-d-lg-none\\nfa-check\\n}\\n}\\nbtn-lg-btn-block-btn-success-mt-auto\\n}\\n}\\n}\\n}\\n}\"\n",
        "]\n",
        "\n",
        "header = [\n",
        "    \"header{\\nnavbar-dark{\\ncontainer-fluid{\\nnavbar-brand\\nnavbar-toggler{\\nnavbar-toggler-icon\\n}\\nnavbar-collapse{\\nnavbar-nav{\\nnav-item{\\nnav-link-active\\n}\\nnav-item{\\nnav-link\\n}\\nnav-item{\\nnav-link-disabled\\n}\\n}\\nform-inline-success\\n}\\n}\\n}\\n}\\nbr\",\n",
        "    \"header{\\nnavbar-danger{\\ncontainer-fluid{\\nnavbar-brand\\nnavbar-toggler{\\nnavbar-toggler-icon\\n}\\nnavbar-collapse{\\nnavbar-nav{\\nnav-item{\\nnav-link-active\\n}\\nnav-item{\\nnav-link\\n}\\nnav-item{\\nnav-link-disabled\\n}\\n}\\nform-inline-dark\\n}\\n}\\n}\\n}\\nbr\",\n",
        "    \"header{\\nnavbar-danger{\\ncontainer-fluid{\\nnavbar-brand\\nnavbar-toggler{\\nnavbar-toggler-icon\\n}\\nnavbar-collapse{\\nnavbar-nav{\\nnav-item{\\nnav-link-active\\n}\\nnav-item{\\nnav-link\\n}\\nnav-item{\\nnav-link-disabled\\n}\\n}\\nform-inline-light\\n}\\n}\\n}\\n}\\nbr\",\n",
        "    \"header{\\nnavbar-success{\\ncontainer-fluid{\\nnavbar-brand\\nnavbar-toggler{\\nnavbar-toggler-icon\\n}\\nnavbar-collapse{\\nnavbar-nav{\\nnav-item{\\nnav-link-active\\n}\\nnav-item{\\nnav-link\\n}\\nnav-item{\\nnav-link-disabled\\n}\\n}\\nform-dark\\n}\\n}\\n}\\n}\\nbr\",\n",
        "    \"header{\\nnavbar-primary{\\ncontainer-fluid{\\nnavbar-brand\\nnavbar-toggler{\\nnavbar-toggler-icon\\n}\\nnavbar-collapse{\\nnavbar-nav{\\nnav-item{\\nnav-link-active\\n}\\nnav-item{\\nnav-link\\n}\\nnav-item{\\nnav-link-disabled\\n}\\n}\\nform-secondary\\n}\\n}\\n}\\n}\\nbr\",\n",
        "    \"header{\\nnavbar-warning{\\ncontainer-fluid{\\nnavbar-brand\\nnavbar-toggler{\\nnavbar-toggler-icon\\n}\\nnavbar-collapse{\\nnavbar-nav{\\nnav-item{\\nnav-link-active\\n}\\nnav-item{\\nnav-link\\n}\\nnav-item{\\nnav-link-disabled\\n}\\n}\\nform-inline-dark\\n}\\n}\\n}\\n}\\nbr\",\n",
        "    \"header{\\nnavbar-dark{\\nnavbar-brand\\nnavbar-toggler{\\nnavbar-toggler-icon\\n}\\nnavbar-collapse{\\nnavbar-nav{\\nnav-item-active{\\nnav-link\\n}\\nnav-item{\\nnav-link\\n}\\nnav-item{\\nnav-link-disabled\\n}\\nnav-item-dropdown{\\nnav-link-dropdown-toggle\\ndropdown-menu{\\ndropdown-item\\ndropdown-item\\ndropdown-item\\n}\\n}\\n}\\nform-inline-success\\n}\\n}\\n}\\nbr\",\n",
        "    \"header{\\nnavbar-primary{\\nnavbar-brand\\nnavbar-toggler{\\nnavbar-toggler-icon\\n}\\nnavbar-collapse{\\nnavbar-nav{\\nnav-item-active{\\nnav-link\\n}\\nnav-item{\\nnav-link\\n}\\nnav-item{\\nnav-link-disabled\\n}\\nnav-item-dropdown{\\nnav-link-dropdown-toggle\\ndropdown-menu{\\ndropdown-item\\ndropdown-item\\ndropdown-item\\n}\\n}\\n}\\nform-secondary\\n}\\n}\\n}\\nbr\",\n",
        "    \"header{\\ncontainer{\\nnavbar-collapse-primary{\\nh-4\\nparagraph-lead\\n}\\n}\\n}\\nbr\",\n",
        "    \"header{\\ncontainer{\\nnavbar-collapse-success{\\nh-4\\nparagraph-lead\\n}\\n}\\n}\\nbr\",\n",
        "    \"header{\\ncontainer{\\nnavbar-collapse-danger{\\nh-4\\nparagraph-lead\\n}\\n}\\n}\\nbr\",\n",
        "    \"header{\\ncontainer{\\nnavbar-collapse-dark{\\nh-4\\nparagraph-lead\\n}\\n}\\n}\\nbr\",\n",
        "    \"header{\\ncontainer{\\nnavbar-collapse-warning{\\nh-4\\nparagraph-lead\\n}\\n}\\n}\\nbr\",\n",
        "    \"header{\\ncontainer{\\nnavbar-collapse-secondary{\\nh-4\\nparagraph-lead\\n}\\n}\\n}\\nbr\",\n",
        "    \"header{\\nnavbar-success{\\nnavbar-brand\\nnavbar-toggler{\\nnavbar-toggler-icon\\n}\\nnavbar-collapse{\\nnavbar-nav{\\nnav-item-active{\\nnav-link-undisabled\\n}\\nnav-item-unactive{\\nnav-link-undisabled\\n}\\nnav-item-unactive{\\nnav-link-undisabled\\n}\\n}\\nform-inline-light\\n}\\n}\\n}\\nbr\",\n",
        "    \"header{\\nnavbar-primary{\\nnavbar-brand\\nnavbar-toggler{\\nnavbar-toggler-icon\\n}\\nnavbar-collapse{\\nnavbar-nav{\\nnav-item-active{\\nnav-link-undisabled\\n}\\nnav-item-unactive{\\nnav-link-undisabled\\n}\\nnav-item-unactive{\\nnav-link-disabled\\n}\\n}\\nform-inline-light\\n}\\n}\\n}\\nbr\",\n",
        "    \"header{\\nnavbar-dark{\\nnavbar-brand\\nnavbar-toggler{\\nnavbar-toggler-icon\\n}\\nnavbar-collapse{\\nnavbar-nav{\\nnav-item-active{\\nnav-link-undisabled\\n}\\nnav-item-unactive{\\nnav-link-undisabled\\n}\\nnav-item-unactive{\\nnav-link-disabled\\n}\\n}\\nform-inline-light\\n}\\n}\\n}\\nbr\",\n",
        "    \"header{\\nnavbar-warning{\\nnavbar-brand\\nnavbar-toggler{\\nnavbar-toggler-icon\\n}\\nnavbar-collapse{\\nnavbar-nav{\\nnav-item-active{\\nnav-link-undisabled\\n}\\nnav-item-unactive{\\nnav-link-undisabled\\n}\\nnav-item-unactive{\\nnav-link-disabled\\n}\\n}\\nform-inline-light\\n}\\n}\\n}\\nbr\",\n",
        "    \"header{\\ncollapse-bg-primary{\\ncontainer{\\nrow{\\ncol-sm-8-col-md-7-py-4{\\nh-4-text-white\\nparagraph-lead-light\\n}\\ncol-sm-4-offset-md-1-py-4{\\nh-4-text-white\\nlist-unstyled-only{\\nli{\\na-text-white\\n}\\nli{\\na-text-white\\n}\\nli{\\na-text-white\\n}\\n}\\n}\\n}\\n}\\n}\\nnavbar-dark-bg-primary-shadow{\\nd-flex-justify-content-between{\\na-navbar-brand-d-flex-align-items-center\\nnavbar-toggler-icon-span\\n}\\n}\\n}\\nbr\",\n",
        "    \"header{\\ncollapse-bg-dark{\\ncontainer{\\nrow{\\ncol-sm-8-col-md-7-py-4{\\nh-4-text-white\\nparagraph-lead-text-muted\\n}\\ncol-sm-4-offset-md-1-py-4{\\nh-4-text-white\\nlist-unstyled-only{\\nli{\\na-text-white\\n}\\nli{\\na-text-white\\n}\\nli{\\na-text-white\\n}\\n}\\n}\\n}\\n}\\n}\\nnavbar-dark-bg-dark-shadow{\\nd-flex-justify-content-between{\\na-navbar-brand-d-flex-align-items-center\\nnavbar-toggler-icon-span\\n}\\n}\\n}\\nbr\",\n",
        "    \"header{\\ncollapse-bg-success{\\ncontainer{\\nrow{\\ncol-sm-8-col-md-7-py-4{\\nh-4-text-white\\nparagraph-lead-light\\n}\\ncol-sm-4-offset-md-1-py-4{\\nh-4-text-white\\nlist-unstyled-only{\\nli{\\na-text-white\\n}\\nli{\\na-text-white\\n}\\nli{\\na-text-white\\n}\\n}\\n}\\n}\\n}\\n}\\nnavbar-dark-bg-success-shadow{\\nd-flex-justify-content-between{\\na-navbar-brand-d-flex-align-items-center\\nnavbar-toggler-icon-span\\n}\\n}\\n}\\nbr\",\n",
        "    \"header{\\ncollapse-bg-danger{\\ncontainer{\\nrow{\\ncol-sm-8-col-md-7-py-4{\\nh-4-text-white\\nparagraph-lead-light\\n}\\ncol-sm-4-offset-md-1-py-4{\\nh-4-text-white\\nlist-unstyled-only{\\nli{\\na-text-white\\n}\\nli{\\na-text-white\\n}\\nli{\\na-text-white\\n}\\n}\\n}\\n}\\n}\\n}\\nnavbar-dark-bg-danger-shadow{\\nd-flex-justify-content-between{\\na-navbar-brand-d-flex-align-items-center\\nnavbar-toggler-icon-span\\n}\\n}\\n}\\nbr\",\n",
        "    \"header{\\ncollapse-bg-info{\\ncontainer{\\nrow{\\ncol-sm-8-col-md-7-py-4{\\nh-4-text-white\\nparagraph-lead-light\\n}\\ncol-sm-4-offset-md-1-py-4{\\nh-4-text-white\\nlist-unstyled-only{\\nli{\\na-text-white\\n}\\nli{\\na-text-white\\n}\\nli{\\na-text-white\\n}\\n}\\n}\\n}\\n}\\n}\\nnavbar-dark-bg-info-shadow{\\nd-flex-justify-content-between{\\na-navbar-brand-d-flex-align-items-center\\nnavbar-toggler-icon-span\\n}\\n}\\n}\\nbr\",\n",
        "    \"header{\\nnavbar-navbar-expand-md-navbar-dark-bg-dark{\\ncontainer-padding-top-0{\\nnavbar-brand\\nnavbar-toggler{\\nnavbar-toggler-icon\\n}\\ncollapse-navbar-collapse-justify-content-end{\\nnavbar-nav-m-auto{\\nnav-item{\\nnav-link\\n}\\nnav-item-active{\\nnav-link\\n}\\nnav-item{\\nnav-link\\n}\\nnav-item{\\nnav-link\\n}\\nnav-item{\\nnav-link\\n}\\n}\\nform-inline-my-2-my-lg-0{\\ninput-group-input-group-sm{\\ninput-text-form-control\\ninput-group-append{\\nbtn-secondary-btn-number\\n}\\n}\\nbtn-success-btn-sm-ml-3\\n}\\n}\\n}\\n}\\n}\\nbr\"\n",
        "]"
      ]
    },
    {
      "cell_type": "code",
      "execution_count": 43,
      "metadata": {
        "id": "7crTVfos5iQz"
      },
      "outputs": [],
      "source": [
        "!mkdir /content/gui"
      ]
    },
    {
      "cell_type": "code",
      "execution_count": 42,
      "metadata": {
        "id": "LWkAkH7F5iS4"
      },
      "outputs": [],
      "source": [
        "!rm -r /content/gui"
      ]
    },
    {
      "cell_type": "code",
      "execution_count": 44,
      "metadata": {
        "id": "ZJTzeOov17CT"
      },
      "outputs": [],
      "source": [
        "for i in range(0, 10):\n",
        "  out ='/content/gui/{}.gui'.format(i)\n",
        "  res  = random.sample((header), 1)\n",
        "  with open(out, \"w\") as f:\n",
        "    for j in res:\n",
        "      print(j, file=f)"
      ]
    },
    {
      "cell_type": "code",
      "execution_count": 45,
      "metadata": {
        "colab": {
          "base_uri": "https://localhost:8080/"
        },
        "id": "-lky_INO2Dov",
        "outputId": "4c1fa7c1-32ae-44f9-a52c-0a61464bf949"
      },
      "outputs": [
        {
          "name": "stdout",
          "output_type": "stream",
          "text": [
            "file count: 10\n"
          ]
        }
      ],
      "source": [
        "count = 0\n",
        "for root_dir, cur_dir, files in os.walk(r'/content/gui'):\n",
        "    count += len(files)\n",
        "print('file count:', count)"
      ]
    },
    {
      "cell_type": "code",
      "execution_count": 46,
      "metadata": {
        "id": "gqyy1wJO0Te7"
      },
      "outputs": [],
      "source": [
        "def print_random_text(text_array):\n",
        "  # create a set to store the texts that have already been chosen\n",
        "  chosen_texts = set()\n",
        "  \n",
        "  # create a counter variable to keep track of the number of files that have been created\n",
        "  file_count = 0\n",
        "  \n",
        "  # enter a loop that will run indefinitely\n",
        "  while True:\n",
        "    # choose a random number of texts (between 1 and 3 inclusive) from the `text_array`\n",
        "    num_text = random.randint(1, 2)\n",
        "    texts_to_print = random.sample(text_array, num_text)\n",
        "    \n",
        "    # check if the chosen texts have already been used\n",
        "    if tuple(texts_to_print) in chosen_texts:\n",
        "      # if the texts have already been used, skip the rest of the loop and try again\n",
        "      continue\n",
        "      \n",
        "    # if the texts have not been used, add them to the set of chosen texts\n",
        "    chosen_texts.add(tuple(texts_to_print))\n",
        "  \n",
        "    # generate a unique filename by appending a random integer to the `file_prefix`\n",
        "    filename = '/content/gui/{}.gui'.format(file_count)\n",
        "  \n",
        "    # open the file in write mode and write the texts to the file, one text per line\n",
        "    with open(filename, 'a+') as f:\n",
        "      for text in texts_to_print:\n",
        "        f.write(text + '\\n')\n",
        "      \n",
        "    # increment the file count\n",
        "    file_count += 1\n",
        "      \n",
        "    # print the name of the file that was created\n",
        "    print(f\"Created file: {filename}\")\n",
        "    \n",
        "    # add a break point after 100 iterations to check if the function is stuck in the loop\n",
        "    if file_count % 5000 == 0:\n",
        "      break"
      ]
    },
    {
      "cell_type": "code",
      "execution_count": 47,
      "metadata": {
        "colab": {
          "base_uri": "https://localhost:8080/",
          "height": 1000
        },
        "id": "pkrzgsaF0T_j",
        "outputId": "e68da910-91df-4dc8-c4a3-732a7c54a369"
      },
      "outputs": [
        {
          "name": "stdout",
          "output_type": "stream",
          "text": [
            "Created file: /content/gui/0.gui\n",
            "Created file: /content/gui/1.gui\n",
            "Created file: /content/gui/2.gui\n",
            "Created file: /content/gui/3.gui\n",
            "Created file: /content/gui/4.gui\n",
            "Created file: /content/gui/5.gui\n",
            "Created file: /content/gui/6.gui\n",
            "Created file: /content/gui/7.gui\n",
            "Created file: /content/gui/8.gui\n",
            "Created file: /content/gui/9.gui\n",
            "Created file: /content/gui/10.gui\n",
            "Created file: /content/gui/11.gui\n",
            "Created file: /content/gui/12.gui\n",
            "Created file: /content/gui/13.gui\n",
            "Created file: /content/gui/14.gui\n",
            "Created file: /content/gui/15.gui\n",
            "Created file: /content/gui/16.gui\n",
            "Created file: /content/gui/17.gui\n",
            "Created file: /content/gui/18.gui\n",
            "Created file: /content/gui/19.gui\n",
            "Created file: /content/gui/20.gui\n",
            "Created file: /content/gui/21.gui\n",
            "Created file: /content/gui/22.gui\n",
            "Created file: /content/gui/23.gui\n",
            "Created file: /content/gui/24.gui\n",
            "Created file: /content/gui/25.gui\n",
            "Created file: /content/gui/26.gui\n",
            "Created file: /content/gui/27.gui\n",
            "Created file: /content/gui/28.gui\n",
            "Created file: /content/gui/29.gui\n",
            "Created file: /content/gui/30.gui\n",
            "Created file: /content/gui/31.gui\n",
            "Created file: /content/gui/32.gui\n",
            "Created file: /content/gui/33.gui\n",
            "Created file: /content/gui/34.gui\n",
            "Created file: /content/gui/35.gui\n",
            "Created file: /content/gui/36.gui\n",
            "Created file: /content/gui/37.gui\n",
            "Created file: /content/gui/38.gui\n",
            "Created file: /content/gui/39.gui\n",
            "Created file: /content/gui/40.gui\n",
            "Created file: /content/gui/41.gui\n",
            "Created file: /content/gui/42.gui\n",
            "Created file: /content/gui/43.gui\n",
            "Created file: /content/gui/44.gui\n",
            "Created file: /content/gui/45.gui\n",
            "Created file: /content/gui/46.gui\n",
            "Created file: /content/gui/47.gui\n",
            "Created file: /content/gui/48.gui\n",
            "Created file: /content/gui/49.gui\n",
            "Created file: /content/gui/50.gui\n",
            "Created file: /content/gui/51.gui\n",
            "Created file: /content/gui/52.gui\n",
            "Created file: /content/gui/53.gui\n",
            "Created file: /content/gui/54.gui\n",
            "Created file: /content/gui/55.gui\n",
            "Created file: /content/gui/56.gui\n",
            "Created file: /content/gui/57.gui\n",
            "Created file: /content/gui/58.gui\n",
            "Created file: /content/gui/59.gui\n",
            "Created file: /content/gui/60.gui\n",
            "Created file: /content/gui/61.gui\n",
            "Created file: /content/gui/62.gui\n",
            "Created file: /content/gui/63.gui\n"
          ]
        },
        {
          "ename": "KeyboardInterrupt",
          "evalue": "ignored",
          "output_type": "error",
          "traceback": [
            "\u001b[0;31m---------------------------------------------------------------------------\u001b[0m",
            "\u001b[0;31mKeyboardInterrupt\u001b[0m                         Traceback (most recent call last)",
            "\u001b[0;32m<ipython-input-47-4530ee2d1df9>\u001b[0m in \u001b[0;36m<module>\u001b[0;34m\u001b[0m\n\u001b[0;32m----> 1\u001b[0;31m \u001b[0mprint_random_text\u001b[0m\u001b[0;34m(\u001b[0m\u001b[0mpricing\u001b[0m\u001b[0;34m)\u001b[0m\u001b[0;34m\u001b[0m\u001b[0;34m\u001b[0m\u001b[0m\n\u001b[0m",
            "\u001b[0;32m<ipython-input-46-e6af05d19f0f>\u001b[0m in \u001b[0;36mprint_random_text\u001b[0;34m(text_array)\u001b[0m\n\u001b[1;32m     10\u001b[0m     \u001b[0;31m# choose a random number of texts (between 1 and 3 inclusive) from the `text_array`\u001b[0m\u001b[0;34m\u001b[0m\u001b[0;34m\u001b[0m\u001b[0;34m\u001b[0m\u001b[0m\n\u001b[1;32m     11\u001b[0m     \u001b[0mnum_text\u001b[0m \u001b[0;34m=\u001b[0m \u001b[0mrandom\u001b[0m\u001b[0;34m.\u001b[0m\u001b[0mrandint\u001b[0m\u001b[0;34m(\u001b[0m\u001b[0;36m1\u001b[0m\u001b[0;34m,\u001b[0m \u001b[0;36m2\u001b[0m\u001b[0;34m)\u001b[0m\u001b[0;34m\u001b[0m\u001b[0;34m\u001b[0m\u001b[0m\n\u001b[0;32m---> 12\u001b[0;31m     \u001b[0mtexts_to_print\u001b[0m \u001b[0;34m=\u001b[0m \u001b[0mrandom\u001b[0m\u001b[0;34m.\u001b[0m\u001b[0msample\u001b[0m\u001b[0;34m(\u001b[0m\u001b[0mtext_array\u001b[0m\u001b[0;34m,\u001b[0m \u001b[0mnum_text\u001b[0m\u001b[0;34m)\u001b[0m\u001b[0;34m\u001b[0m\u001b[0;34m\u001b[0m\u001b[0m\n\u001b[0m\u001b[1;32m     13\u001b[0m \u001b[0;34m\u001b[0m\u001b[0m\n\u001b[1;32m     14\u001b[0m     \u001b[0;31m# check if the chosen texts have already been used\u001b[0m\u001b[0;34m\u001b[0m\u001b[0;34m\u001b[0m\u001b[0;34m\u001b[0m\u001b[0m\n",
            "\u001b[0;32m/usr/lib/python3.8/random.py\u001b[0m in \u001b[0;36msample\u001b[0;34m(self, population, k)\u001b[0m\n\u001b[1;32m    356\u001b[0m         \u001b[0;32mif\u001b[0m \u001b[0misinstance\u001b[0m\u001b[0;34m(\u001b[0m\u001b[0mpopulation\u001b[0m\u001b[0;34m,\u001b[0m \u001b[0m_Set\u001b[0m\u001b[0;34m)\u001b[0m\u001b[0;34m:\u001b[0m\u001b[0;34m\u001b[0m\u001b[0;34m\u001b[0m\u001b[0m\n\u001b[1;32m    357\u001b[0m             \u001b[0mpopulation\u001b[0m \u001b[0;34m=\u001b[0m \u001b[0mtuple\u001b[0m\u001b[0;34m(\u001b[0m\u001b[0mpopulation\u001b[0m\u001b[0;34m)\u001b[0m\u001b[0;34m\u001b[0m\u001b[0;34m\u001b[0m\u001b[0m\n\u001b[0;32m--> 358\u001b[0;31m         \u001b[0;32mif\u001b[0m \u001b[0;32mnot\u001b[0m \u001b[0misinstance\u001b[0m\u001b[0;34m(\u001b[0m\u001b[0mpopulation\u001b[0m\u001b[0;34m,\u001b[0m \u001b[0m_Sequence\u001b[0m\u001b[0;34m)\u001b[0m\u001b[0;34m:\u001b[0m\u001b[0;34m\u001b[0m\u001b[0;34m\u001b[0m\u001b[0m\n\u001b[0m\u001b[1;32m    359\u001b[0m             \u001b[0;32mraise\u001b[0m \u001b[0mTypeError\u001b[0m\u001b[0;34m(\u001b[0m\u001b[0;34m\"Population must be a sequence or set.  For dicts, use list(d).\"\u001b[0m\u001b[0;34m)\u001b[0m\u001b[0;34m\u001b[0m\u001b[0;34m\u001b[0m\u001b[0m\n\u001b[1;32m    360\u001b[0m         \u001b[0mrandbelow\u001b[0m \u001b[0;34m=\u001b[0m \u001b[0mself\u001b[0m\u001b[0;34m.\u001b[0m\u001b[0m_randbelow\u001b[0m\u001b[0;34m\u001b[0m\u001b[0;34m\u001b[0m\u001b[0m\n",
            "\u001b[0;32m/usr/lib/python3.8/abc.py\u001b[0m in \u001b[0;36m__instancecheck__\u001b[0;34m(cls, instance)\u001b[0m\n\u001b[1;32m     94\u001b[0m             \u001b[0;32mreturn\u001b[0m \u001b[0m_abc_register\u001b[0m\u001b[0;34m(\u001b[0m\u001b[0mcls\u001b[0m\u001b[0;34m,\u001b[0m \u001b[0msubclass\u001b[0m\u001b[0;34m)\u001b[0m\u001b[0;34m\u001b[0m\u001b[0;34m\u001b[0m\u001b[0m\n\u001b[1;32m     95\u001b[0m \u001b[0;34m\u001b[0m\u001b[0m\n\u001b[0;32m---> 96\u001b[0;31m         \u001b[0;32mdef\u001b[0m \u001b[0m__instancecheck__\u001b[0m\u001b[0;34m(\u001b[0m\u001b[0mcls\u001b[0m\u001b[0;34m,\u001b[0m \u001b[0minstance\u001b[0m\u001b[0;34m)\u001b[0m\u001b[0;34m:\u001b[0m\u001b[0;34m\u001b[0m\u001b[0;34m\u001b[0m\u001b[0m\n\u001b[0m\u001b[1;32m     97\u001b[0m             \u001b[0;34m\"\"\"Override for isinstance(instance, cls).\"\"\"\u001b[0m\u001b[0;34m\u001b[0m\u001b[0;34m\u001b[0m\u001b[0m\n\u001b[1;32m     98\u001b[0m             \u001b[0;32mreturn\u001b[0m \u001b[0m_abc_instancecheck\u001b[0m\u001b[0;34m(\u001b[0m\u001b[0mcls\u001b[0m\u001b[0;34m,\u001b[0m \u001b[0minstance\u001b[0m\u001b[0;34m)\u001b[0m\u001b[0;34m\u001b[0m\u001b[0;34m\u001b[0m\u001b[0m\n",
            "\u001b[0;31mKeyboardInterrupt\u001b[0m: "
          ]
        }
      ],
      "source": [
        "print_random_text(pricing)"
      ]
    },
    {
      "cell_type": "code",
      "execution_count": 48,
      "metadata": {
        "colab": {
          "base_uri": "https://localhost:8080/"
        },
        "id": "D0lDghU-7Ll-",
        "outputId": "f983d775-e034-4765-b48c-ba10f9986608"
      },
      "outputs": [
        {
          "name": "stdout",
          "output_type": "stream",
          "text": [
            "file count: 64\n"
          ]
        }
      ],
      "source": [
        "count = 0\n",
        "for root_dir, cur_dir, files in os.walk(r'/content/gui'):\n",
        "    count += len(files)\n",
        "print('file count:', count)"
      ]
    },
    {
      "cell_type": "markdown",
      "metadata": {
        "id": "8VGflvmZzHeJ"
      },
      "source": [
        "# Add empty str before ( { )"
      ]
    },
    {
      "cell_type": "code",
      "execution_count": 49,
      "metadata": {
        "id": "9WqvRugdJTw7"
      },
      "outputs": [],
      "source": [
        "directory = os.fsencode('/content/gui')\n",
        "\n",
        "for file in os.listdir(directory):\n",
        "  filename = os.fsdecode(file)\n",
        "  with open('/content/gui/'+filename, 'r') as inp:\n",
        "    fixed = inp.read().replace('{', ' {')\n",
        "  with open('/content/gui/'+filename, 'w') as out:\n",
        "    out.write(fixed)"
      ]
    },
    {
      "cell_type": "markdown",
      "metadata": {
        "id": "WvtJMflFzC9o"
      },
      "source": [
        "# Remove last empty str"
      ]
    },
    {
      "cell_type": "code",
      "execution_count": 50,
      "metadata": {
        "id": "zegANrqEYBTF"
      },
      "outputs": [],
      "source": [
        "for file in os.listdir(directory):\n",
        "  filename = os.fsdecode(file)\n",
        "  with open('/content/gui/'+filename, 'rb+') as filehandle:\n",
        "    filehandle.seek(-1, os.SEEK_END)\n",
        "    filehandle.truncate()"
      ]
    },
    {
      "cell_type": "code",
      "execution_count": 51,
      "metadata": {
        "colab": {
          "base_uri": "https://localhost:8080/"
        },
        "id": "nTVBzRCo2onl",
        "outputId": "6ad8e931-e0d8-4174-a8d2-3d429fe64aff"
      },
      "outputs": [
        {
          "name": "stdout",
          "output_type": "stream",
          "text": [
            "  adding: gui/ (stored 0%)\n",
            "  adding: gui/14.gui (deflated 44%)\n",
            "  adding: gui/62.gui (deflated 68%)\n",
            "  adding: gui/53.gui (deflated 75%)\n",
            "  adding: gui/51.gui (deflated 80%)\n",
            "  adding: gui/54.gui (deflated 82%)\n",
            "  adding: gui/60.gui (deflated 82%)\n",
            "  adding: gui/17.gui (deflated 78%)\n",
            "  adding: gui/21.gui (deflated 71%)\n",
            "  adding: gui/9.gui (deflated 78%)\n",
            "  adding: gui/28.gui (deflated 82%)\n",
            "  adding: gui/23.gui (deflated 85%)\n",
            "  adding: gui/3.gui (deflated 74%)\n",
            "  adding: gui/63.gui (deflated 86%)\n",
            "  adding: gui/61.gui (deflated 63%)\n",
            "  adding: gui/11.gui (deflated 90%)\n",
            "  adding: gui/55.gui (deflated 89%)\n",
            "  adding: gui/47.gui (deflated 80%)\n",
            "  adding: gui/15.gui (deflated 71%)\n",
            "  adding: gui/1.gui (deflated 81%)\n",
            "  adding: gui/45.gui (deflated 86%)\n",
            "  adding: gui/57.gui (deflated 88%)\n",
            "  adding: gui/29.gui (deflated 74%)\n",
            "  adding: gui/5.gui (deflated 79%)\n",
            "  adding: gui/33.gui (deflated 88%)\n",
            "  adding: gui/35.gui (deflated 79%)\n",
            "  adding: gui/27.gui (deflated 90%)\n",
            "  adding: gui/12.gui (deflated 72%)\n",
            "  adding: gui/37.gui (deflated 88%)\n",
            "  adding: gui/39.gui (deflated 85%)\n",
            "  adding: gui/56.gui (deflated 89%)\n",
            "  adding: gui/0.gui (deflated 65%)\n",
            "  adding: gui/38.gui (deflated 84%)\n",
            "  adding: gui/34.gui (deflated 78%)\n",
            "  adding: gui/8.gui (deflated 68%)\n",
            "  adding: gui/26.gui (deflated 82%)\n",
            "  adding: gui/40.gui (deflated 79%)\n",
            "  adding: gui/36.gui (deflated 89%)\n",
            "  adding: gui/42.gui (deflated 79%)\n",
            "  adding: gui/10.gui (deflated 74%)\n",
            "  adding: gui/44.gui (deflated 77%)\n",
            "  adding: gui/31.gui (deflated 80%)\n",
            "  adding: gui/59.gui (deflated 63%)\n",
            "  adding: gui/18.gui (deflated 82%)\n",
            "  adding: gui/32.gui (deflated 72%)\n",
            "  adding: gui/19.gui (deflated 62%)\n",
            "  adding: gui/43.gui (deflated 80%)\n",
            "  adding: gui/41.gui (deflated 77%)\n",
            "  adding: gui/2.gui (deflated 81%)\n",
            "  adding: gui/13.gui (deflated 89%)\n",
            "  adding: gui/24.gui (deflated 86%)\n",
            "  adding: gui/4.gui (deflated 68%)\n",
            "  adding: gui/7.gui (deflated 71%)\n",
            "  adding: gui/48.gui (deflated 79%)\n",
            "  adding: gui/50.gui (deflated 82%)\n",
            "  adding: gui/46.gui (deflated 89%)\n",
            "  adding: gui/49.gui (deflated 88%)\n",
            "  adding: gui/22.gui (deflated 79%)\n",
            "  adding: gui/25.gui (deflated 89%)\n",
            "  adding: gui/30.gui (deflated 78%)\n",
            "  adding: gui/52.gui (deflated 90%)\n",
            "  adding: gui/16.gui (deflated 79%)\n",
            "  adding: gui/58.gui (deflated 80%)\n",
            "  adding: gui/20.gui (deflated 75%)\n",
            "  adding: gui/6.gui (deflated 73%)\n"
          ]
        }
      ],
      "source": [
        "!zip -r \"pricing.zip\" \"gui\""
      ]
    }
  ],
  "metadata": {
    "colab": {
      "provenance": []
    },
    "kernelspec": {
      "display_name": "Python 3",
      "name": "python3"
    },
    "language_info": {
      "name": "python"
    }
  },
  "nbformat": 4,
  "nbformat_minor": 0
}
