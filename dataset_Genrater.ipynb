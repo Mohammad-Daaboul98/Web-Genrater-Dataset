{
  "nbformat": 4,
  "nbformat_minor": 0,
  "metadata": {
    "colab": {
      "provenance": []
    },
    "kernelspec": {
      "name": "python3",
      "display_name": "Python 3"
    },
    "language_info": {
      "name": "python"
    }
  },
  "cells": [
    {
      "cell_type": "markdown",
      "source": [
        "<h1>Dataset</h1>"
      ],
      "metadata": {
        "id": "rAro1uIoDGAM"
      }
    },
    {
      "cell_type": "code",
      "source": [
        "import random\n",
        "import os\n",
        "data =[\n",
        "\"jumbotron-center{\\n container{\\n h-jumbotron,paragraph-lead-text-muted \\n p-btn{\\n btn-primary-my-2,btn-secondary-my-2 \\n}\\n}\\n}\",\n",
        "\"album-py-5-bg-light{\\n container{\\n row{\\n col-md-4{\\n card-mb-4-shadow{\\n card-img-top \\n card-body{\\n paragraph-card-text \\n d-flex-justify-content-between{\\n btn-group{\\n btn-outline-secondary-sm,btn-outline-secondary-sm \\n}\\n}\\n}\\n}\\n}\\n col-md-4{\\n card-mb-4-shadow{\\n card-img-top \\n card-body{\\n paragraph-card-text \\n d-flex-justify-content-between{\\n btn-group{\\n btn-outline-secondary-sm,btn-outline-secondary-sm \\n}\\n}\\n}\\n}\\n}\\n col-md-4{\\n card-mb-4-shadow{\\n card-img-top \\n card-body{\\n paragraph-card-text \\n d-flex-justify-content-between{\\n btn-group{\\n btn-outline-secondary-sm,btn-outline-secondary-sm \\n}\\n}\\n}\\n}\\n}\\n col-md-4{\\n card-mb-4-shadow{\\n card-img-top \\n card-body{\\n paragraph-card-text \\n d-flex-justify-content-between{\\n btn-group{\\n btn-outline-secondary-sm,btn-outline-secondary-sm \\n}\\n}\\n}\\n}\\n}\\n col-md-4{\\n card-mb-4-shadow{\\n card-img-top \\n card-body{\\n paragraph-card-text \\n d-flex-justify-content-between{\\n btn-group{\\n btn-outline-secondary-sm,btn-outline-secondary-sm \\n}\\n}\\n}\\n}\\n}\\n col-md-4{\\n card-mb-4-shadow{\\n card-img-top \\n card-body{\\n paragraph-card-text \\n d-flex-justify-content-between{\\n btn-group{\\n btn-outline-secondary-sm,btn-outline-secondary-sm \\n}\\n}\\n}\\n}\\n}\\n}\\n}\\n}\",\n",
        "\"carousel-slide \\n\",\n",
        "\"container-marketing{\\n row{\\n col-lg-4{\\n svg-140px,h-2,paragraph \\n p-btn{\\n btn-secondary \\n}\\n}\\n col-lg-4{\\n svg-140px,h-2,paragraph \\n p-btn{\\n btn-secondary \\n}\\n}\\n col-lg-4{\\n svg-140px,h-2,paragraph \\n p-btn{\\n btn-secondary \\n}\\n\\n}\\n\\n}\\n}\\n featurette-divider \\n\",\n",
        "\"container-marketing{\\n row {\\n col-md-7{\\n h-featurette{\\n text-muted  \\n}\\n paragraph-lead \\n}\\n col-md-5{\\n svg-500px \\n}\\n}\\n}\\n featurette-divider \\n\"\n",
        "]\n",
        "\n",
        "header = [\n",
        "\"header{\\n collapse-bg-primary{\\n container{\\n row{\\n col-sm-8-col-md-7-py-4{\\n h-4-text-white,paragraph-lead-light \\n}\\n col-sm-4-offset-md-1-py-4{\\n h-4-text-white \\n list-unstyled-only{\\n li{\\n a-text-white \\n}\\n li{\\n a-text-white \\n}\\n li{\\n a-text-white \\n}\\n}\\n}\\n}\\n}\\n}\\n navbar-dark-bg-primary-shadow{\\n d-flex-justify-content-between{\\n a-navbar-brand-d-flex-align-items-center,navbar-toggler-icon-span \\n}\\n}\\n}\\n\",\n",
        "\"header{\\n collapse-bg-dark{\\n container{\\n row{\\n col-sm-8-col-md-7-py-4{\\n h-4-text-white,paragraph-lead-text-muted \\n}\\n col-sm-4-offset-md-1-py-4{\\n h-4-text-white \\n list-unstyled-only{\\n li{\\n a-text-white \\n}\\n li{\\n a-text-white \\n}\\n li{\\n a-text-white \\n}\\n}\\n}\\n}\\n}\\n}\\n navbar-dark-bg-dark-shadow{\\n d-flex-justify-content-between{\\n a-navbar-brand-d-flex-align-items-center,navbar-toggler-icon-span \\n}\\n}\\n}\\n\",\n",
        "\"header{\\n collapse-bg-success{\\n container{\\n row{\\n col-sm-8-col-md-7-py-4{\\n h-4-text-white,paragraph-lead-light \\n}\\n col-sm-4-offset-md-1-py-4{\\n h-4-text-white \\n list-unstyled-only{\\n li{\\n a-text-white \\n}\\n li{\\n a-text-white \\n}\\n li{\\n a-text-white \\n}\\n}\\n}\\n}\\n}\\n}\\n navbar-dark-bg-success-shadow{\\n d-flex-justify-content-between{\\n a-navbar-brand-d-flex-align-items-center,navbar-toggler-icon-span \\n}\\n}\\n}\\n\",\n",
        "\"header{\\n collapse-bg-danger{\\n container{\\n row{\\n col-sm-8-col-md-7-py-4{\\n h-4-text-white,paragraph-lead-light \\n}\\n col-sm-4-offset-md-1-py-4{\\n h-4-text-white \\n list-unstyled-only{\\n li{\\n a-text-white \\n}\\n li{\\n a-text-white \\n}\\n li{\\n a-text-white \\n}\\n}\\n}\\n}\\n}\\n}\\n navbar-dark-bg-danger-shadow{\\n d-flex-justify-content-between{\\n a-navbar-brand-d-flex-align-items-center,navbar-toggler-icon-span \\n}\\n}\\n}\\n\",\n",
        "\"header{\\n collapse-bg-info{\\n container{\\n row{\\n col-sm-8-col-md-7-py-4{\\n h-4-text-white,paragraph-lead-light \\n}\\n col-sm-4-offset-md-1-py-4{\\n h-4-text-white \\n list-unstyled-only{\\n li{\\n a-text-white \\n}\\n li{\\n a-text-white \\n}\\n li{\\n a-text-white \\n}\\n}\\n}\\n}\\n}\\n}\\n navbar-dark-bg-info-shadow{\\n d-flex-justify-content-between{\\n a-navbar-brand-d-flex-align-items-center,navbar-toggler-icon-span \\n}\\n}\\n}\\n\",\n",
        "\n",
        "\"header{\\n navbar-success{\\n navbar-brand \\n navbar-toggler{\\n navbar-toggler-icon \\n}\\n navbar-collapse{\\n navbar-nav{\\n nav-item-active{\\n nav-link-undisabled \\n}\\n nav-item-unactive{\\n nav-link-undisabled \\n}\\n nav-item-unactive{\\n nav-link-undisabled \\n}\\n}\\n form-inline-light\\n}\\n}\\n}\",\n",
        "\"header{\\n navbar-primary{\\n navbar-brand \\n navbar-toggler{\\n navbar-toggler-icon \\n}\\n navbar-collapse{\\n navbar-nav{\\n nav-item-active{\\n nav-link-undisabled \\n}\\n nav-item-unactive{\\n nav-link-undisabled \\n}\\n nav-item-unactive{\\n nav-link-disabled \\n}\\n}\\n form-inline-light \\n}\\n}\\n}\\n\",\n",
        "\"header{\\n navbar-dark{\\n navbar-brand \\n navbar-toggler{\\n navbar-toggler-icon \\n}\\n navbar-collapse{\\n navbar-nav{\\n nav-item-active{\\n nav-link-undisabled \\n}\\n nav-item-unactive{\\n nav-link-undisabled \\n}\\n nav-item-unactive{\\n nav-link-disabled \\n}\\n}\\n form-inline-light \\n}\\n}\\n}\\n\",\n",
        "\"header{\\n navbar-light{\\n navbar-brand \\n navbar-toggler{\\n navbar-toggler-icon \\n}\\n navbar-collapse{\\n navbar-nav{\\n nav-item-active{\\n nav-link-undisabled \\n}\\n nav-item-unactive{\\n nav-link-undisabled \\n}\\n nav-item-unactive{\\n nav-link-disabled \\n}\\n}\\n form-inline-light \\n}\\n}\\n}\\n\",\n",
        "\"header{\\n navbar-warning{\\n navbar-brand \\n navbar-toggler{\\n navbar-toggler-icon \\n}\\n navbar-collapse{\\n navbar-nav{\\n nav-item-active{\\n nav-link-undisabled \\n}\\n nav-item-unactive{\\n nav-link-undisabled \\n}\\n nav-item-unactive{\\n nav-link-disabled \\n}\\n}\\n form-inline-light \\n}\\n}\\n}\\n\"]\n",
        "       "
      ],
      "metadata": {
        "id": "UDs1A6nukNsy"
      },
      "execution_count": 1,
      "outputs": []
    },
    {
      "cell_type": "markdown",
      "source": [
        "<h1>Header Section</h1>"
      ],
      "metadata": {
        "id": "qUfLJXjADDOT"
      }
    },
    {
      "cell_type": "code",
      "source": [
        "for i in range(28,1028):\n",
        "  out ='{}.gui'.format(i)\n",
        "  res  = random.sample((header), 1)\n",
        "  with open(out, \"w\") as f:\n",
        "    for j in res:\n",
        "      print(j,file=f)"
      ],
      "metadata": {
        "id": "kCTh73yCfGRF"
      },
      "execution_count": 2,
      "outputs": []
    },
    {
      "cell_type": "markdown",
      "source": [
        "<h1>Main Section</h1>"
      ],
      "metadata": {
        "id": "0blXD0YMCylk"
      }
    },
    {
      "cell_type": "code",
      "source": [
        "#Dont run this code multiple time before run header first\n",
        "selected=[]\n",
        "for i in range(28,1028):\n",
        "  out = \"{}.gui\".format(i)\n",
        "  rand_0 = random.randint(1,5)\n",
        "  res_0  = random.sample((data), rand_0)\n",
        "  rand_1 = random.randint(1,5)\n",
        "  res_1  = random.sample((data), rand_1)\n",
        "  selected.append(res_0 + res_1)\n",
        "  for (el1 , el2) in zip(res_0 , res_1):\n",
        "    if el1 not in selected[0] and el2 not in selected[0]: \n",
        "      with open(out, 'a+') as f:\n",
        "        for j in res_0:\n",
        "          print(j,file=f)\n",
        "      with open(out, \"a+\") as fd:\n",
        "        for j in res_1:\n",
        "          print(j,file=fd)\n",
        "    elif os.path.exists(out):\n",
        "      os.remove(out)"
      ],
      "metadata": {
        "id": "jJnl4qEhqHy7"
      },
      "execution_count": 3,
      "outputs": []
    }
  ]
}